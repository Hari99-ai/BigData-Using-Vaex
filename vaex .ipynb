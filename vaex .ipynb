{
 "cells": [
  {
   "cell_type": "code",
   "execution_count": 39,
   "id": "4fec2cb6",
   "metadata": {},
   "outputs": [],
   "source": [
    "\n",
    "import pandas as pd\n"
   ]
  },
  {
   "cell_type": "code",
   "execution_count": 40,
   "id": "658e02fe",
   "metadata": {},
   "outputs": [],
   "source": [
    "# ! pip uninstall vaex -y\n",
    "# ! pip install \"vaex[full]\""
   ]
  },
  {
   "cell_type": "code",
   "execution_count": 41,
   "id": "37c976a3",
   "metadata": {},
   "outputs": [],
   "source": [
    "import vaex\n",
    "\n",
    "# If you want to open an existing HDF5 file with vaex, use vaex.open:\n",
    "vaex_df = vaex.open(\"C:/Users/hari9/Downloads/large_data_exported.hdf5\")\n",
    "\n",
    "\n",
    "# If you have a pandas DataFrame and want to convert it to vaex, use:\n",
    "# vaex_df = vaex.from_pandas(df)\n",
    "# vaex_df = vaex.from_pandas(\"large_data.hdf5\")"
   ]
  },
  {
   "cell_type": "code",
   "execution_count": 42,
   "id": "9af9a28b",
   "metadata": {},
   "outputs": [
    {
     "data": {
      "text/plain": [
       "vaex.dataframe.DataFrameLocal"
      ]
     },
     "execution_count": 42,
     "metadata": {},
     "output_type": "execute_result"
    }
   ],
   "source": [
    "type(vaex_df)"
   ]
  },
  {
   "cell_type": "code",
   "execution_count": 43,
   "id": "d119408a",
   "metadata": {},
   "outputs": [],
   "source": [
    "# vaex_df.export_hdf5(r'C:/Users/hari9/Downloads/large_data_exported.hdf5')\n",
    "# vaex_df.export_hdf5('large_data.hdf5')\n",
    "import h5py\n",
    "with h5py.File(r\"C:/Users/hari9/Downloads/test_direct.hdf5\", \"w\") as f:\n",
    "    f.create_dataset(\"dummy\", data=[1, 2, 3])"
   ]
  },
  {
   "cell_type": "code",
   "execution_count": 44,
   "id": "9cbacfd0",
   "metadata": {},
   "outputs": [],
   "source": [
    "vaex_df = vaex.open('large_data.hdf5')"
   ]
  },
  {
   "cell_type": "code",
   "execution_count": 45,
   "id": "015da287",
   "metadata": {},
   "outputs": [
    {
     "data": {
      "text/html": [
       "<table>\n",
       "<thead>\n",
       "<tr><th>#                            </th><th style=\"text-align: right;\">       f1</th><th style=\"text-align: right;\">        f2</th><th style=\"text-align: right;\">       f3</th><th style=\"text-align: right;\">       f4</th><th style=\"text-align: right;\">   target</th></tr>\n",
       "</thead>\n",
       "<tbody>\n",
       "<tr><td><i style='opacity: 0.6'>0</i></td><td style=\"text-align: right;\"> 0.203936</td><td style=\"text-align: right;\">-0.291191 </td><td style=\"text-align: right;\">-0.617251</td><td style=\"text-align: right;\">-1.4613  </td><td style=\"text-align: right;\"> 10.7967 </td></tr>\n",
       "<tr><td><i style='opacity: 0.6'>1</i></td><td style=\"text-align: right;\">-1.19543 </td><td style=\"text-align: right;\"> 0.0692141</td><td style=\"text-align: right;\"> 0.291861</td><td style=\"text-align: right;\"> 1.97251 </td><td style=\"text-align: right;\"> 11.154  </td></tr>\n",
       "<tr><td><i style='opacity: 0.6'>2</i></td><td style=\"text-align: right;\">-2.56027 </td><td style=\"text-align: right;\">-0.827846 </td><td style=\"text-align: right;\"> 0.405551</td><td style=\"text-align: right;\">-0.132588</td><td style=\"text-align: right;\">-20.3427 </td></tr>\n",
       "<tr><td><i style='opacity: 0.6'>3</i></td><td style=\"text-align: right;\">-1.1312  </td><td style=\"text-align: right;\"> 0.252654 </td><td style=\"text-align: right;\"> 0.961175</td><td style=\"text-align: right;\"> 1.23687 </td><td style=\"text-align: right;\">  1.40764</td></tr>\n",
       "<tr><td><i style='opacity: 0.6'>4</i></td><td style=\"text-align: right;\"> 0.858774</td><td style=\"text-align: right;\">-0.461605 </td><td style=\"text-align: right;\"> 1.0955  </td><td style=\"text-align: right;\">-0.87158 </td><td style=\"text-align: right;\">-17.0431 </td></tr>\n",
       "<tr><td><i style='opacity: 0.6'>5</i></td><td style=\"text-align: right;\"> 0.63273 </td><td style=\"text-align: right;\"> 2.07437  </td><td style=\"text-align: right;\">-0.700978</td><td style=\"text-align: right;\"> 1.36085 </td><td style=\"text-align: right;\"> 49.2754 </td></tr>\n",
       "<tr><td><i style='opacity: 0.6'>6</i></td><td style=\"text-align: right;\">-1.92771 </td><td style=\"text-align: right;\"> 0.155743 </td><td style=\"text-align: right;\">-0.394158</td><td style=\"text-align: right;\">-1.3712  </td><td style=\"text-align: right;\"> 11.0902 </td></tr>\n",
       "<tr><td><i style='opacity: 0.6'>7</i></td><td style=\"text-align: right;\">-0.165462</td><td style=\"text-align: right;\">-0.481113 </td><td style=\"text-align: right;\">-1.29813 </td><td style=\"text-align: right;\"> 1.75204 </td><td style=\"text-align: right;\">-41.1136 </td></tr>\n",
       "<tr><td><i style='opacity: 0.6'>8</i></td><td style=\"text-align: right;\">-1.31883 </td><td style=\"text-align: right;\"> 0.393728 </td><td style=\"text-align: right;\">-1.83311 </td><td style=\"text-align: right;\">-0.599728</td><td style=\"text-align: right;\">  1.87724</td></tr>\n",
       "<tr><td><i style='opacity: 0.6'>9</i></td><td style=\"text-align: right;\">-0.671377</td><td style=\"text-align: right;\">-0.172073 </td><td style=\"text-align: right;\">-0.75585 </td><td style=\"text-align: right;\"> 1.05745 </td><td style=\"text-align: right;\">-26.2623 </td></tr>\n",
       "</tbody>\n",
       "</table>"
      ],
      "text/plain": [
       "  #         f1          f2         f3         f4     target\n",
       "  0   0.203936  -0.291191   -0.617251  -1.4613     10.7967\n",
       "  1  -1.19543    0.0692141   0.291861   1.97251    11.154\n",
       "  2  -2.56027   -0.827846    0.405551  -0.132588  -20.3427\n",
       "  3  -1.1312     0.252654    0.961175   1.23687     1.40764\n",
       "  4   0.858774  -0.461605    1.0955    -0.87158   -17.0431\n",
       "  5   0.63273    2.07437    -0.700978   1.36085    49.2754\n",
       "  6  -1.92771    0.155743   -0.394158  -1.3712     11.0902\n",
       "  7  -0.165462  -0.481113   -1.29813    1.75204   -41.1136\n",
       "  8  -1.31883    0.393728   -1.83311   -0.599728    1.87724\n",
       "  9  -0.671377  -0.172073   -0.75585    1.05745   -26.2623"
      ]
     },
     "execution_count": 45,
     "metadata": {},
     "output_type": "execute_result"
    }
   ],
   "source": [
    "vaex_df.head()"
   ]
  },
  {
   "cell_type": "code",
   "execution_count": 46,
   "id": "0a9313a2",
   "metadata": {},
   "outputs": [
    {
     "name": "stderr",
     "output_type": "stream",
     "text": [
      "d:\\all\\.venv\\lib\\site-packages\\vaex\\ml\\__init__.py:28: UserWarning: Make sure the DataFrame is shuffled\n",
      "  warnings.warn('Make sure the DataFrame is shuffled')\n"
     ]
    }
   ],
   "source": [
    "vaex_df = vaex_df.shuffle()\n",
    "df_train, df_test = vaex_df.ml.train_test_split(test_size=0.2)"
   ]
  },
  {
   "cell_type": "code",
   "execution_count": 47,
   "id": "921bd13b",
   "metadata": {},
   "outputs": [
    {
     "data": {
      "text/plain": [
       "(24000000, 5)"
      ]
     },
     "execution_count": 47,
     "metadata": {},
     "output_type": "execute_result"
    }
   ],
   "source": [
    "df_train.shape"
   ]
  },
  {
   "cell_type": "code",
   "execution_count": 48,
   "id": "31948cd2",
   "metadata": {},
   "outputs": [
    {
     "data": {
      "text/plain": [
       "(6000000, 5)"
      ]
     },
     "execution_count": 48,
     "metadata": {},
     "output_type": "execute_result"
    }
   ],
   "source": [
    "df_test.shape"
   ]
  },
  {
   "cell_type": "code",
   "execution_count": 49,
   "id": "d00e3981",
   "metadata": {},
   "outputs": [
    {
     "name": "stdout",
     "output_type": "stream",
     "text": [
      "0.5912421852802107\n",
      "15.967093560881423\n"
     ]
    }
   ],
   "source": [
    "from vaex.ml.sklearn import IncrementalPredictor\n",
    "from sklearn.linear_model import SGDRegressor\n",
    "\n",
    "features = ['f1','f2','f3','f4']\n",
    "target = 'target'\n",
    "model = SGDRegressor()\n",
    "vaex_model = IncrementalPredictor(features=features, target=target, model=model, batch_size=500000)\n",
    "\n",
    "# Fit the model FIRST\n",
    "vaex_model.fit(df=df_train)\n",
    "\n",
    "# Then transform/predict\n",
    "df_test = vaex_model.transform(df_test)\n",
    "\n",
    "from sklearn.metrics import r2_score, mean_absolute_error\n",
    "print(r2_score(df_test['target'].values, df_test['prediction'].values))\n",
    "print(mean_absolute_error(df_test['target'].values, df_test['prediction'].values))"
   ]
  },
  {
   "cell_type": "code",
   "execution_count": 50,
   "id": "0d5f8014",
   "metadata": {},
   "outputs": [],
   "source": [
    "df_test = vaex_model.transform(df_test)"
   ]
  },
  {
   "cell_type": "code",
   "execution_count": 51,
   "id": "3fafcfcd",
   "metadata": {},
   "outputs": [
    {
     "data": {
      "text/html": [
       "<table>\n",
       "<thead>\n",
       "<tr><th>#                            </th><th style=\"text-align: right;\">        f1</th><th style=\"text-align: right;\">        f2</th><th style=\"text-align: right;\">        f3</th><th style=\"text-align: right;\">       f4</th><th style=\"text-align: right;\">   target</th><th style=\"text-align: right;\">  prediction</th></tr>\n",
       "</thead>\n",
       "<tbody>\n",
       "<tr><td><i style='opacity: 0.6'>0</i></td><td style=\"text-align: right;\"> 0.276644 </td><td style=\"text-align: right;\">-0.0668065</td><td style=\"text-align: right;\"> 0.340587 </td><td style=\"text-align: right;\"> 0.624418</td><td style=\"text-align: right;\">-25.8545 </td><td style=\"text-align: right;\">    -1.78298</td></tr>\n",
       "<tr><td><i style='opacity: 0.6'>1</i></td><td style=\"text-align: right;\">-0.434699 </td><td style=\"text-align: right;\">-0.365077 </td><td style=\"text-align: right;\">-0.378762 </td><td style=\"text-align: right;\"> 0.803824</td><td style=\"text-align: right;\"> -7.42881</td><td style=\"text-align: right;\">    -9.40138</td></tr>\n",
       "<tr><td><i style='opacity: 0.6'>2</i></td><td style=\"text-align: right;\">-0.443189 </td><td style=\"text-align: right;\"> 0.0784667</td><td style=\"text-align: right;\"> 0.977384 </td><td style=\"text-align: right;\"> 1.83799 </td><td style=\"text-align: right;\"> 14.3699 </td><td style=\"text-align: right;\">     1.35655</td></tr>\n",
       "<tr><td><i style='opacity: 0.6'>3</i></td><td style=\"text-align: right;\"> 0.726944 </td><td style=\"text-align: right;\">-0.819236 </td><td style=\"text-align: right;\">-0.0308231</td><td style=\"text-align: right;\"> 0.307952</td><td style=\"text-align: right;\">-46.0164 </td><td style=\"text-align: right;\">   -20.0165 </td></tr>\n",
       "<tr><td><i style='opacity: 0.6'>4</i></td><td style=\"text-align: right;\"> 1.46078  </td><td style=\"text-align: right;\">-2.07596  </td><td style=\"text-align: right;\"> 0.292618 </td><td style=\"text-align: right;\">-1.52276 </td><td style=\"text-align: right;\">-70.0876 </td><td style=\"text-align: right;\">   -49.8833 </td></tr>\n",
       "<tr><td><i style='opacity: 0.6'>5</i></td><td style=\"text-align: right;\"> 0.514574 </td><td style=\"text-align: right;\">-0.255039 </td><td style=\"text-align: right;\"> 1.46753  </td><td style=\"text-align: right;\"> 0.125535</td><td style=\"text-align: right;\">-25.2681 </td><td style=\"text-align: right;\">    -5.94962</td></tr>\n",
       "<tr><td><i style='opacity: 0.6'>6</i></td><td style=\"text-align: right;\">-0.474701 </td><td style=\"text-align: right;\">-0.085891 </td><td style=\"text-align: right;\"> 0.562383 </td><td style=\"text-align: right;\">-0.178928</td><td style=\"text-align: right;\">-23.6089 </td><td style=\"text-align: right;\">    -2.10914</td></tr>\n",
       "<tr><td><i style='opacity: 0.6'>7</i></td><td style=\"text-align: right;\"> 0.739353 </td><td style=\"text-align: right;\"> 0.386559 </td><td style=\"text-align: right;\">-0.730177 </td><td style=\"text-align: right;\">-0.888132</td><td style=\"text-align: right;\"> 14.7822 </td><td style=\"text-align: right;\">     9.63518</td></tr>\n",
       "<tr><td><i style='opacity: 0.6'>8</i></td><td style=\"text-align: right;\"> 0.0939356</td><td style=\"text-align: right;\">-0.125148 </td><td style=\"text-align: right;\">-1.33577  </td><td style=\"text-align: right;\"> 0.351722</td><td style=\"text-align: right;\">  2.29813</td><td style=\"text-align: right;\">    -3.48511</td></tr>\n",
       "<tr><td><i style='opacity: 0.6'>9</i></td><td style=\"text-align: right;\">-1.39615  </td><td style=\"text-align: right;\">-0.619555 </td><td style=\"text-align: right;\">-0.880879 </td><td style=\"text-align: right;\"> 0.695927</td><td style=\"text-align: right;\"> -3.79376</td><td style=\"text-align: right;\">   -15.871  </td></tr>\n",
       "</tbody>\n",
       "</table>"
      ],
      "text/plain": [
       "  #          f1          f2          f3         f4     target    prediction\n",
       "  0   0.276644   -0.0668065   0.340587    0.624418  -25.8545       -1.78298\n",
       "  1  -0.434699   -0.365077   -0.378762    0.803824   -7.42881      -9.40138\n",
       "  2  -0.443189    0.0784667   0.977384    1.83799    14.3699        1.35655\n",
       "  3   0.726944   -0.819236   -0.0308231   0.307952  -46.0164      -20.0165\n",
       "  4   1.46078    -2.07596     0.292618   -1.52276   -70.0876      -49.8833\n",
       "  5   0.514574   -0.255039    1.46753     0.125535  -25.2681       -5.94962\n",
       "  6  -0.474701   -0.085891    0.562383   -0.178928  -23.6089       -2.10914\n",
       "  7   0.739353    0.386559   -0.730177   -0.888132   14.7822        9.63518\n",
       "  8   0.0939356  -0.125148   -1.33577     0.351722    2.29813      -3.48511\n",
       "  9  -1.39615    -0.619555   -0.880879    0.695927   -3.79376     -15.871"
      ]
     },
     "execution_count": 51,
     "metadata": {},
     "output_type": "execute_result"
    }
   ],
   "source": [
    "df_test.head()"
   ]
  }
 ],
 "metadata": {
  "kernelspec": {
   "display_name": ".venv",
   "language": "python",
   "name": "python3"
  },
  "language_info": {
   "codemirror_mode": {
    "name": "ipython",
    "version": 3
   },
   "file_extension": ".py",
   "mimetype": "text/x-python",
   "name": "python",
   "nbconvert_exporter": "python",
   "pygments_lexer": "ipython3",
   "version": "3.10.11"
  }
 },
 "nbformat": 4,
 "nbformat_minor": 5
}
