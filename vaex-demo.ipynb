{
 "cells": [
  {
   "cell_type": "code",
   "execution_count": 182,
   "id": "4fec2cb6",
   "metadata": {},
   "outputs": [],
   "source": [
    "import pandas as pd"
   ]
  },
  {
   "cell_type": "code",
   "execution_count": 189,
   "id": "37c976a3",
   "metadata": {},
   "outputs": [],
   "source": [
    "import vaex\n",
    "\n",
    "# If you want to open an existing HDF5 file with vaex, use vaex.open:\n",
    "vaex_df = vaex.open(\"C:/Users/hari9/Downloads/large_data.hdf5\")\n",
    "\n",
    "\n",
    "# If you have a pandas DataFrame and want to convert it to vaex, use:\n",
    "# vaex_df = vaex.from_pandas(df)\n",
    "# vaex_df = vaex.from_pandas(\"large_data.hdf5\")"
   ]
  },
  {
   "cell_type": "code",
   "execution_count": 190,
   "id": "9af9a28b",
   "metadata": {},
   "outputs": [
    {
     "data": {
      "text/plain": [
       "vaex.dataframe.DataFrameLocal"
      ]
     },
     "execution_count": 190,
     "metadata": {},
     "output_type": "execute_result"
    }
   ],
   "source": [
    "type(vaex_df)"
   ]
  },
  {
   "cell_type": "code",
   "execution_count": 191,
   "id": "d119408a",
   "metadata": {},
   "outputs": [],
   "source": [
    "# vaex_df.export_hdf5('large_data.hdf5')\n",
    "vaex_df.export_hdf5(\"C:/Users/hari9/Downloads/large_data_exported.hdf5\")"
   ]
  },
  {
   "cell_type": "code",
   "execution_count": 192,
   "id": "9cbacfd0",
   "metadata": {},
   "outputs": [],
   "source": [
    "vaex_df = vaex.open('large_data.hdf5')"
   ]
  },
  {
   "cell_type": "code",
   "execution_count": 193,
   "id": "015da287",
   "metadata": {},
   "outputs": [
    {
     "data": {
      "text/html": [
       "<table>\n",
       "<thead>\n",
       "<tr><th>#                            </th><th style=\"text-align: right;\">       f1</th><th style=\"text-align: right;\">        f2</th><th style=\"text-align: right;\">       f3</th><th style=\"text-align: right;\">       f4</th><th style=\"text-align: right;\">   target</th></tr>\n",
       "</thead>\n",
       "<tbody>\n",
       "<tr><td><i style='opacity: 0.6'>0</i></td><td style=\"text-align: right;\"> 0.203936</td><td style=\"text-align: right;\">-0.291191 </td><td style=\"text-align: right;\">-0.617251</td><td style=\"text-align: right;\">-1.4613  </td><td style=\"text-align: right;\"> 10.7967 </td></tr>\n",
       "<tr><td><i style='opacity: 0.6'>1</i></td><td style=\"text-align: right;\">-1.19543 </td><td style=\"text-align: right;\"> 0.0692141</td><td style=\"text-align: right;\"> 0.291861</td><td style=\"text-align: right;\"> 1.97251 </td><td style=\"text-align: right;\"> 11.154  </td></tr>\n",
       "<tr><td><i style='opacity: 0.6'>2</i></td><td style=\"text-align: right;\">-2.56027 </td><td style=\"text-align: right;\">-0.827846 </td><td style=\"text-align: right;\"> 0.405551</td><td style=\"text-align: right;\">-0.132588</td><td style=\"text-align: right;\">-20.3427 </td></tr>\n",
       "<tr><td><i style='opacity: 0.6'>3</i></td><td style=\"text-align: right;\">-1.1312  </td><td style=\"text-align: right;\"> 0.252654 </td><td style=\"text-align: right;\"> 0.961175</td><td style=\"text-align: right;\"> 1.23687 </td><td style=\"text-align: right;\">  1.40764</td></tr>\n",
       "<tr><td><i style='opacity: 0.6'>4</i></td><td style=\"text-align: right;\"> 0.858774</td><td style=\"text-align: right;\">-0.461605 </td><td style=\"text-align: right;\"> 1.0955  </td><td style=\"text-align: right;\">-0.87158 </td><td style=\"text-align: right;\">-17.0431 </td></tr>\n",
       "<tr><td><i style='opacity: 0.6'>5</i></td><td style=\"text-align: right;\"> 0.63273 </td><td style=\"text-align: right;\"> 2.07437  </td><td style=\"text-align: right;\">-0.700978</td><td style=\"text-align: right;\"> 1.36085 </td><td style=\"text-align: right;\"> 49.2754 </td></tr>\n",
       "<tr><td><i style='opacity: 0.6'>6</i></td><td style=\"text-align: right;\">-1.92771 </td><td style=\"text-align: right;\"> 0.155743 </td><td style=\"text-align: right;\">-0.394158</td><td style=\"text-align: right;\">-1.3712  </td><td style=\"text-align: right;\"> 11.0902 </td></tr>\n",
       "<tr><td><i style='opacity: 0.6'>7</i></td><td style=\"text-align: right;\">-0.165462</td><td style=\"text-align: right;\">-0.481113 </td><td style=\"text-align: right;\">-1.29813 </td><td style=\"text-align: right;\"> 1.75204 </td><td style=\"text-align: right;\">-41.1136 </td></tr>\n",
       "<tr><td><i style='opacity: 0.6'>8</i></td><td style=\"text-align: right;\">-1.31883 </td><td style=\"text-align: right;\"> 0.393728 </td><td style=\"text-align: right;\">-1.83311 </td><td style=\"text-align: right;\">-0.599728</td><td style=\"text-align: right;\">  1.87724</td></tr>\n",
       "<tr><td><i style='opacity: 0.6'>9</i></td><td style=\"text-align: right;\">-0.671377</td><td style=\"text-align: right;\">-0.172073 </td><td style=\"text-align: right;\">-0.75585 </td><td style=\"text-align: right;\"> 1.05745 </td><td style=\"text-align: right;\">-26.2623 </td></tr>\n",
       "</tbody>\n",
       "</table>"
      ],
      "text/plain": [
       "  #         f1          f2         f3         f4     target\n",
       "  0   0.203936  -0.291191   -0.617251  -1.4613     10.7967\n",
       "  1  -1.19543    0.0692141   0.291861   1.97251    11.154\n",
       "  2  -2.56027   -0.827846    0.405551  -0.132588  -20.3427\n",
       "  3  -1.1312     0.252654    0.961175   1.23687     1.40764\n",
       "  4   0.858774  -0.461605    1.0955    -0.87158   -17.0431\n",
       "  5   0.63273    2.07437    -0.700978   1.36085    49.2754\n",
       "  6  -1.92771    0.155743   -0.394158  -1.3712     11.0902\n",
       "  7  -0.165462  -0.481113   -1.29813    1.75204   -41.1136\n",
       "  8  -1.31883    0.393728   -1.83311   -0.599728    1.87724\n",
       "  9  -0.671377  -0.172073   -0.75585    1.05745   -26.2623"
      ]
     },
     "execution_count": 193,
     "metadata": {},
     "output_type": "execute_result"
    }
   ],
   "source": [
    "vaex_df.head()"
   ]
  },
  {
   "cell_type": "code",
   "execution_count": 194,
   "id": "0a9313a2",
   "metadata": {},
   "outputs": [
    {
     "name": "stderr",
     "output_type": "stream",
     "text": [
      "d:\\all\\.venv\\lib\\site-packages\\vaex\\ml\\__init__.py:28: UserWarning: Make sure the DataFrame is shuffled\n",
      "  warnings.warn('Make sure the DataFrame is shuffled')\n"
     ]
    }
   ],
   "source": [
    "vaex_df = vaex_df.shuffle()\n",
    "df_train, df_test = vaex_df.ml.train_test_split(test_size=0.2)"
   ]
  },
  {
   "cell_type": "code",
   "execution_count": 195,
   "id": "921bd13b",
   "metadata": {},
   "outputs": [
    {
     "data": {
      "text/plain": [
       "(24000000, 5)"
      ]
     },
     "execution_count": 195,
     "metadata": {},
     "output_type": "execute_result"
    }
   ],
   "source": [
    "df_train.shape"
   ]
  },
  {
   "cell_type": "code",
   "execution_count": 196,
   "id": "31948cd2",
   "metadata": {},
   "outputs": [
    {
     "data": {
      "text/plain": [
       "(6000000, 5)"
      ]
     },
     "execution_count": 196,
     "metadata": {},
     "output_type": "execute_result"
    }
   ],
   "source": [
    "df_test.shape"
   ]
  },
  {
   "cell_type": "code",
   "execution_count": null,
   "id": "d00e3981",
   "metadata": {},
   "outputs": [],
   "source": [
    "from vaex.ml.sklearn import IncrementalPredictor\n",
    "from sklearn.linear_model import SGDRegressor\n",
    "\n",
    "features = ['f1','f2','f3','f4']\n",
    "target = 'target'\n",
    "model = SGDRegressor()\n",
    "vaex_model = IncrementalPredictor(features=features, target=target, model=model, batch_size=500000)\n",
    "\n",
    "# Fit the model FIRST\n",
    "vaex_model.fit(df=df_train)\n",
    "\n",
    "# Then transform/predict\n",
    "df_test = vaex_model.transform(df_test)\n",
    "\n",
    "from sklearn.metrics import r2_score, mean_absolute_error\n",
    "print(r2_score(df_test['target'].values, df_test['prediction'].values))\n",
    "print(mean_absolute_error(df_test['target'].values, df_test['prediction'].values))"
   ]
  },
  {
   "cell_type": "code",
   "execution_count": null,
   "id": "0d5f8014",
   "metadata": {},
   "outputs": [],
   "source": [
    "df_test = vaex_model.transform(df_test)"
   ]
  },
  {
   "cell_type": "code",
   "execution_count": null,
   "id": "3fafcfcd",
   "metadata": {},
   "outputs": [
    {
     "data": {
      "text/html": [
       "<table>\n",
       "<thead>\n",
       "<tr><th>#                            </th><th style=\"text-align: right;\">        f1</th><th style=\"text-align: right;\">        f2</th><th style=\"text-align: right;\">       f3</th><th style=\"text-align: right;\">       f4</th><th style=\"text-align: right;\">   target</th><th style=\"text-align: right;\">  prediction</th></tr>\n",
       "</thead>\n",
       "<tbody>\n",
       "<tr><td><i style='opacity: 0.6'>0</i></td><td style=\"text-align: right;\"> 0.29086  </td><td style=\"text-align: right;\">-0.0385908</td><td style=\"text-align: right;\"> 1.59723 </td><td style=\"text-align: right;\"> 0.15296 </td><td style=\"text-align: right;\"> 26.9744 </td><td style=\"text-align: right;\">   -0.924839</td></tr>\n",
       "<tr><td><i style='opacity: 0.6'>1</i></td><td style=\"text-align: right;\">-0.187286 </td><td style=\"text-align: right;\"> 0.52585  </td><td style=\"text-align: right;\">-0.498319</td><td style=\"text-align: right;\">-1.05155 </td><td style=\"text-align: right;\">-23.8366 </td><td style=\"text-align: right;\">   13.0414  </td></tr>\n",
       "<tr><td><i style='opacity: 0.6'>2</i></td><td style=\"text-align: right;\">-0.0151952</td><td style=\"text-align: right;\"> 0.143277 </td><td style=\"text-align: right;\">-1.05367 </td><td style=\"text-align: right;\"> 1.12322 </td><td style=\"text-align: right;\">  9.40669</td><td style=\"text-align: right;\">    3.31887 </td></tr>\n",
       "<tr><td><i style='opacity: 0.6'>3</i></td><td style=\"text-align: right;\">-0.657051 </td><td style=\"text-align: right;\"> 1.05504  </td><td style=\"text-align: right;\"> 0.870511</td><td style=\"text-align: right;\"> 0.768333</td><td style=\"text-align: right;\">-16.5919 </td><td style=\"text-align: right;\">   25.2979  </td></tr>\n",
       "<tr><td><i style='opacity: 0.6'>4</i></td><td style=\"text-align: right;\"> 0.122737 </td><td style=\"text-align: right;\"> 1.42854  </td><td style=\"text-align: right;\"> 2.30543 </td><td style=\"text-align: right;\">-0.280049</td><td style=\"text-align: right;\"> 49.5821 </td><td style=\"text-align: right;\">   34.6833  </td></tr>\n",
       "<tr><td><i style='opacity: 0.6'>5</i></td><td style=\"text-align: right;\"> 1.1552   </td><td style=\"text-align: right;\"> 0.223859 </td><td style=\"text-align: right;\"> 1.02635 </td><td style=\"text-align: right;\">-0.946949</td><td style=\"text-align: right;\">  8.93615</td><td style=\"text-align: right;\">    5.88579 </td></tr>\n",
       "<tr><td><i style='opacity: 0.6'>6</i></td><td style=\"text-align: right;\"> 0.81815  </td><td style=\"text-align: right;\"> 0.562931 </td><td style=\"text-align: right;\"> 1.05412 </td><td style=\"text-align: right;\">-0.867081</td><td style=\"text-align: right;\"> 21.6996 </td><td style=\"text-align: right;\">   14.0221  </td></tr>\n",
       "<tr><td><i style='opacity: 0.6'>7</i></td><td style=\"text-align: right;\"> 0.0696464</td><td style=\"text-align: right;\">-0.71009  </td><td style=\"text-align: right;\">-1.81918 </td><td style=\"text-align: right;\">-0.161784</td><td style=\"text-align: right;\">-15.1155 </td><td style=\"text-align: right;\">  -17.0229  </td></tr>\n",
       "<tr><td><i style='opacity: 0.6'>8</i></td><td style=\"text-align: right;\"> 0.52071  </td><td style=\"text-align: right;\">-1.60228  </td><td style=\"text-align: right;\">-0.666615</td><td style=\"text-align: right;\"> 1.2591  </td><td style=\"text-align: right;\">-37.2783 </td><td style=\"text-align: right;\">  -38.949   </td></tr>\n",
       "<tr><td><i style='opacity: 0.6'>9</i></td><td style=\"text-align: right;\">-0.366734 </td><td style=\"text-align: right;\"> 1.88243  </td><td style=\"text-align: right;\">-0.857379</td><td style=\"text-align: right;\"> 2.49819 </td><td style=\"text-align: right;\">-11.9235 </td><td style=\"text-align: right;\">   45.0903  </td></tr>\n",
       "</tbody>\n",
       "</table>"
      ],
      "text/plain": [
       "  #          f1          f2         f3         f4     target    prediction\n",
       "  0   0.29086    -0.0385908   1.59723    0.15296    26.9744      -0.924839\n",
       "  1  -0.187286    0.52585    -0.498319  -1.05155   -23.8366      13.0414\n",
       "  2  -0.0151952   0.143277   -1.05367    1.12322     9.40669      3.31887\n",
       "  3  -0.657051    1.05504     0.870511   0.768333  -16.5919      25.2979\n",
       "  4   0.122737    1.42854     2.30543   -0.280049   49.5821      34.6833\n",
       "  5   1.1552      0.223859    1.02635   -0.946949    8.93615      5.88579\n",
       "  6   0.81815     0.562931    1.05412   -0.867081   21.6996      14.0221\n",
       "  7   0.0696464  -0.71009    -1.81918   -0.161784  -15.1155     -17.0229\n",
       "  8   0.52071    -1.60228    -0.666615   1.2591    -37.2783     -38.949\n",
       "  9  -0.366734    1.88243    -0.857379   2.49819   -11.9235      45.0903"
      ]
     },
     "execution_count": 180,
     "metadata": {},
     "output_type": "execute_result"
    }
   ],
   "source": [
    "df_test.head()"
   ]
  }
 ],
 "metadata": {
  "kernelspec": {
   "display_name": ".venv",
   "language": "python",
   "name": "python3"
  },
  "language_info": {
   "codemirror_mode": {
    "name": "ipython",
    "version": 3
   },
   "file_extension": ".py",
   "mimetype": "text/x-python",
   "name": "python",
   "nbconvert_exporter": "python",
   "pygments_lexer": "ipython3",
   "version": "3.10.11"
  }
 },
 "nbformat": 4,
 "nbformat_minor": 5
}
